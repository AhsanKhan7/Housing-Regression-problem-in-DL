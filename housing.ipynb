{
 "cells": [
  {
   "cell_type": "markdown",
   "metadata": {},
   "source": [
    "# step 1"
   ]
  },
  {
   "cell_type": "code",
   "execution_count": 1,
   "metadata": {},
   "outputs": [],
   "source": [
    "# READ"
   ]
  },
  {
   "cell_type": "markdown",
   "metadata": {},
   "source": [
    "# step 2"
   ]
  },
  {
   "cell_type": "code",
   "execution_count": 1,
   "metadata": {},
   "outputs": [
    {
     "name": "stderr",
     "output_type": "stream",
     "text": [
      "Using TensorFlow backend.\n"
     ]
    }
   ],
   "source": [
    "import numpy\n",
    "import pandas\n",
    "from keras.models import Sequential\n",
    "from keras.layers import Dense\n",
    "from keras.wrappers.scikit_learn import KerasRegressor\n",
    "from sklearn.model_selection import cross_val_score\n",
    "from sklearn.model_selection import KFold\n",
    "from sklearn.preprocessing import StandardScaler\n",
    "from sklearn.pipeline import Pipeline\n",
    "\n",
    "from keras import models\n",
    "from keras import layers\n",
    "import keras\n",
    "from keras import Input\n",
    "from keras import Model"
   ]
  },
  {
   "cell_type": "code",
   "execution_count": 2,
   "metadata": {},
   "outputs": [],
   "source": [
    "dataframe = pandas.read_csv(\"housing.csv\", delim_whitespace=True, header=None)\n",
    "dataset = dataframe.values\n",
    "x = dataset[:,0:13]\n",
    "y = dataset[:,13]"
   ]
  },
  {
   "cell_type": "code",
   "execution_count": 3,
   "metadata": {},
   "outputs": [
    {
     "name": "stderr",
     "output_type": "stream",
     "text": [
      "WARNING: Logging before flag parsing goes to stderr.\n",
      "W0826 00:22:38.119589  2824 deprecation_wrapper.py:119] From C:\\Users\\Ahsan\\Anaconda3\\envs\\deeplearning\\lib\\site-packages\\keras\\backend\\tensorflow_backend.py:74: The name tf.get_default_graph is deprecated. Please use tf.compat.v1.get_default_graph instead.\n",
      "\n",
      "W0826 00:22:38.143584  2824 deprecation_wrapper.py:119] From C:\\Users\\Ahsan\\Anaconda3\\envs\\deeplearning\\lib\\site-packages\\keras\\backend\\tensorflow_backend.py:517: The name tf.placeholder is deprecated. Please use tf.compat.v1.placeholder instead.\n",
      "\n",
      "W0826 00:22:38.147581  2824 deprecation_wrapper.py:119] From C:\\Users\\Ahsan\\Anaconda3\\envs\\deeplearning\\lib\\site-packages\\keras\\backend\\tensorflow_backend.py:4138: The name tf.random_uniform is deprecated. Please use tf.random.uniform instead.\n",
      "\n",
      "W0826 00:22:38.205269  2824 deprecation_wrapper.py:119] From C:\\Users\\Ahsan\\Anaconda3\\envs\\deeplearning\\lib\\site-packages\\keras\\optimizers.py:790: The name tf.train.Optimizer is deprecated. Please use tf.compat.v1.train.Optimizer instead.\n",
      "\n",
      "W0826 00:22:38.379803  2824 deprecation_wrapper.py:119] From C:\\Users\\Ahsan\\Anaconda3\\envs\\deeplearning\\lib\\site-packages\\keras\\backend\\tensorflow_backend.py:986: The name tf.assign_add is deprecated. Please use tf.compat.v1.assign_add instead.\n",
      "\n",
      "W0826 00:22:38.478046  2824 deprecation_wrapper.py:119] From C:\\Users\\Ahsan\\Anaconda3\\envs\\deeplearning\\lib\\site-packages\\keras\\backend\\tensorflow_backend.py:973: The name tf.assign is deprecated. Please use tf.compat.v1.assign instead.\n",
      "\n"
     ]
    },
    {
     "name": "stdout",
     "output_type": "stream",
     "text": [
      "Results: -51.96 (40.34) MSE\n"
     ]
    }
   ],
   "source": [
    "def baseline():\n",
    "    network = models.Sequential()\n",
    "    network.add(layers.Dense(13, activation = \"relu\", input_shape = (13,)))\n",
    "    network.add(layers.Dense(13, activation = \"relu\"))\n",
    "    network.add(layers.Dense(1,))\n",
    "    network.compile(optimizer = \"Adam\",\n",
    "                   loss = \"mean_squared_error\",\n",
    "                   metrics = [\"accuracy\"])\n",
    "    return network\n",
    "\n",
    "seed = 7\n",
    "numpy.random.seed(seed)\n",
    "estimator = KerasRegressor(build_fn=baseline, epochs=100, batch_size=5, verbose=0)\n",
    "kfold = KFold(n_splits=10, random_state=seed)\n",
    "results = cross_val_score(estimator, x, y, cv=kfold)\n",
    "print(\"Results: %.2f (%.2f) MSE\" % (results.mean(), results.std()))"
   ]
  },
  {
   "cell_type": "markdown",
   "metadata": {},
   "source": [
    "# step 3"
   ]
  },
  {
   "cell_type": "code",
   "execution_count": 6,
   "metadata": {},
   "outputs": [
    {
     "name": "stdout",
     "output_type": "stream",
     "text": [
      "Standardized: -22.13 (26.31) MSE\n"
     ]
    }
   ],
   "source": [
    "estimators = []\n",
    "estimators.append(('standardize', StandardScaler()))\n",
    "estimators.append(('mlp', KerasRegressor(build_fn=baseline, epochs=50, batch_size=5, verbose=0)))\n",
    "pipeline = Pipeline(estimators)\n",
    "kfold = KFold(n_splits=10, random_state=seed)\n",
    "results = cross_val_score(pipeline, x, y, cv=kfold)\n",
    "print(\"Standardized: %.2f (%.2f) MSE\" % (results.mean(), results.std()))"
   ]
  },
  {
   "cell_type": "markdown",
   "metadata": {},
   "source": [
    "# extension step 3"
   ]
  },
  {
   "cell_type": "code",
   "execution_count": 9,
   "metadata": {},
   "outputs": [
    {
     "name": "stdout",
     "output_type": "stream",
     "text": [
      "Results: -47.00 (35.29) MSE\n"
     ]
    }
   ],
   "source": [
    "def ext_step():\n",
    "    network1 = models.Sequential()\n",
    "    network1.add(layers.Dense(30, activation = \"relu\", input_shape = (13,)))\n",
    "    network1.add(layers.Dense(30, activation = \"sigmoid\"))\n",
    "    network1.add(layers.Dense(1,))\n",
    "    network1.compile(optimizer = \"Adam\",\n",
    "                   loss = \"mean_squared_error\",\n",
    "                   metrics = [\"accuracy\"])\n",
    "    return network1\n",
    "\n",
    "seed = 7\n",
    "numpy.random.seed(seed)\n",
    "estimator = KerasRegressor(build_fn=ext_step, epochs=100, batch_size=5, verbose=0)\n",
    "kfold = KFold(n_splits=10, random_state=seed)\n",
    "results = cross_val_score(estimator, x, y, cv=kfold)\n",
    "print(\"Results: %.2f (%.2f) MSE\" % (results.mean(), results.std()))"
   ]
  },
  {
   "cell_type": "markdown",
   "metadata": {},
   "source": [
    "# step 4"
   ]
  },
  {
   "cell_type": "code",
   "execution_count": 13,
   "metadata": {},
   "outputs": [
    {
     "name": "stdout",
     "output_type": "stream",
     "text": [
      "Larger: -23.32 (27.31) MSE\n"
     ]
    }
   ],
   "source": [
    "def larger():\n",
    "    network2 = models.Sequential()\n",
    "    network2.add(layers.Dense(13, activation = \"relu\", input_shape = (13,)))\n",
    "    network2.add(layers.Dense(13, activation = \"relu\"))\n",
    "    network2.add(layers.Dense(6, activation = \"relu\"))\n",
    "    network2.add(layers.Dense(1))\n",
    "    network2.compile(optimizer = \"Adam\",\n",
    "                   loss = \"mean_squared_error\",\n",
    "                   metrics = [\"accuracy\"])\n",
    "    return network2\n",
    "\n",
    "numpy.random.seed(seed)\n",
    "estimators = []\n",
    "estimators.append(('standardize', StandardScaler()))\n",
    "estimators.append(('mlp', KerasRegressor(build_fn=larger, epochs=50, batch_size=5, verbose=0)))\n",
    "pipeline = Pipeline(estimators)\n",
    "kfold = KFold(n_splits=10, random_state=seed)\n",
    "results = cross_val_score(pipeline, x, y, cv=kfold)\n",
    "print(\"Larger: %.2f (%.2f) MSE\" % (results.mean(), results.std()))"
   ]
  },
  {
   "cell_type": "code",
   "execution_count": 16,
   "metadata": {},
   "outputs": [
    {
     "name": "stdout",
     "output_type": "stream",
     "text": [
      "Wider: -22.42 (26.38) MSE\n"
     ]
    }
   ],
   "source": [
    "def wider_model():\n",
    "    network3 = models.Sequential()\n",
    "    network3.add(layers.Dense(13, activation = \"relu\", input_shape = (13,)))\n",
    "    network3.add(layers.Dense(20, activation = \"relu\"))\n",
    "    network3.add(layers.Dense(1,))\n",
    "    network3.compile(optimizer = \"rmsprop\",\n",
    "                    loss = \"mean_squared_error\",\n",
    "                    metrics = [\"accuracy\"])\n",
    "    return network3\n",
    "\n",
    "numpy.random.seed(seed)\n",
    "estimators = []\n",
    "estimators.append(('standardize', StandardScaler()))\n",
    "estimators.append(('mlp', KerasRegressor(build_fn=wider_model, epochs=100, batch_size=5, verbose=0)))\n",
    "pipeline = Pipeline(estimators)\n",
    "kfold = KFold(n_splits=10, random_state=seed)\n",
    "results = cross_val_score(pipeline, x, y, cv=kfold)\n",
    "print(\"Wider: %.2f (%.2f) MSE\" % (results.mean(), results.std()))"
   ]
  },
  {
   "cell_type": "markdown",
   "metadata": {},
   "source": [
    "# step 5"
   ]
  },
  {
   "cell_type": "code",
   "execution_count": 17,
   "metadata": {},
   "outputs": [
    {
     "name": "stdout",
     "output_type": "stream",
     "text": [
      "Results: -38.14 (25.11) MSE\n"
     ]
    }
   ],
   "source": [
    "def step5() :\n",
    "    network4 = models.Sequential()\n",
    "    network4.add(layers.Dense(30, activation = \"relu\", input_shape = (13,)))\n",
    "    network4.add(layers.Dense(30, activation = \"relu\"))\n",
    "    network4.add(layers.Dense(30, activation = \"relu\"))\n",
    "    network4.add(layers.Dense(30, activation = \"relu\"))\n",
    "    network4.add(layers.Dense(1,))\n",
    "    network4.compile(optimizer = \"rmsprop\",\n",
    "                    loss = \"mean_squared_error\",\n",
    "                    metrics = [\"accuracy\"])\n",
    "    return network4\n",
    "\n",
    "seed = 7\n",
    "numpy.random.seed(seed)\n",
    "estimator = KerasRegressor(build_fn=step5, epochs=250, batch_size=5, verbose=0)\n",
    "kfold = KFold(n_splits=10, random_state=seed)\n",
    "results = cross_val_score(estimator, x, y, cv=kfold)\n",
    "print(\"Results: %.2f (%.2f) MSE\" % (results.mean(), results.std()))"
   ]
  },
  {
   "cell_type": "markdown",
   "metadata": {},
   "source": [
    "# step 6"
   ]
  },
  {
   "cell_type": "code",
   "execution_count": 18,
   "metadata": {},
   "outputs": [
    {
     "name": "stdout",
     "output_type": "stream",
     "text": [
      "Results: -91.67 (58.36) MSE\n"
     ]
    }
   ],
   "source": [
    "def tuning():\n",
    "    network5 = models.Sequential()\n",
    "    network5.add(layers.Dense(20, activation = \"sigmoid\", input_shape = (13,)))\n",
    "    network5.add(layers.Dense(10, activation = \"sigmoid\"))\n",
    "    network5.add(layers.Dense(20, activation = \"sigmoid\"))\n",
    "    network5.add(layers.Dense(1,))\n",
    "    network5.compile(optimizer = \"SGD\",\n",
    "                    loss = \"mean_squared_error\",\n",
    "                    metrics = [\"accuracy\"])\n",
    "    return network5\n",
    "\n",
    "seed = 7\n",
    "numpy.random.seed(seed)\n",
    "estimator = KerasRegressor(build_fn=tuning, epochs=100, batch_size=5, verbose=0)\n",
    "kfold = KFold(n_splits=10, random_state=seed)\n",
    "results = cross_val_score(estimator, x, y, cv=kfold)\n",
    "print(\"Results: %.2f (%.2f) MSE\" % (results.mean(), results.std()))"
   ]
  },
  {
   "cell_type": "markdown",
   "metadata": {},
   "source": [
    "# step 7"
   ]
  },
  {
   "cell_type": "code",
   "execution_count": 34,
   "metadata": {},
   "outputs": [
    {
     "name": "stdout",
     "output_type": "stream",
     "text": [
      "Standardized: -25.30 (29.10) MSE\n"
     ]
    }
   ],
   "source": [
    "def step_7():\n",
    "    inputs = Input(shape = (13,))\n",
    "    hidden = Dense(20, activation = \"relu\")(inputs)\n",
    "    hidden = Dense(20, activation = \"relu\")(hidden)\n",
    "    prediction = layers.Dense(1)(hidden)\n",
    "    \n",
    "    model = Model(inputs = inputs, outputs = prediction)\n",
    "    model.compile(optimizer = \"rmsprop\",\n",
    "                 loss = \"mean_squared_error\",\n",
    "                 metrics = [\"accuracy\"])\n",
    "    return model\n",
    "\n",
    "seed = 7\n",
    "numpy.random.seed(seed)\n",
    "estimators = []\n",
    "estimators.append(('standardize', StandardScaler()))\n",
    "estimators.append(('mlp', KerasRegressor(build_fn= step_7, epochs=150, batch_size=5, verbose=0)))\n",
    "pipeline = Pipeline(estimators)\n",
    "kfold = KFold(n_splits=10, random_state=seed)\n",
    "results = cross_val_score(pipeline, x, y, cv=kfold)\n",
    "print(\"Standardized: %.2f (%.2f) MSE\" % (results.mean(), results.std()))"
   ]
  },
  {
   "cell_type": "markdown",
   "metadata": {},
   "source": [
    "# step 8"
   ]
  },
  {
   "cell_type": "code",
   "execution_count": 6,
   "metadata": {},
   "outputs": [
    {
     "name": "stderr",
     "output_type": "stream",
     "text": [
      "W0815 00:57:34.023178  6196 deprecation_wrapper.py:119] From C:\\Users\\Ahsan\\Anaconda3\\envs\\deeplearning\\lib\\site-packages\\keras\\backend\\tensorflow_backend.py:4138: The name tf.random_uniform is deprecated. Please use tf.random.uniform instead.\n",
      "\n",
      "W0815 00:57:34.178092  6196 deprecation_wrapper.py:119] From C:\\Users\\Ahsan\\Anaconda3\\envs\\deeplearning\\lib\\site-packages\\keras\\backend\\tensorflow_backend.py:986: The name tf.assign_add is deprecated. Please use tf.compat.v1.assign_add instead.\n",
      "\n",
      "W0815 00:57:34.329380  6196 deprecation_wrapper.py:119] From C:\\Users\\Ahsan\\Anaconda3\\envs\\deeplearning\\lib\\site-packages\\keras\\backend\\tensorflow_backend.py:973: The name tf.assign is deprecated. Please use tf.compat.v1.assign instead.\n",
      "\n"
     ]
    },
    {
     "name": "stdout",
     "output_type": "stream",
     "text": [
      "Wider: -24.08 (26.07) MSE\n"
     ]
    }
   ],
   "source": [
    "class MyModel(keras.Model):\n",
    "    \n",
    "    def __init__(self):\n",
    "        super(MyModel, self).__init__()\n",
    "        inputs = Input(shape = (13,))\n",
    "        self.dense1 = layers.Dense(13, activation = \"relu\")\n",
    "        self.dense2 = layers.Dense(13, activation = \"relu\")\n",
    "        self.dense3 = layers.Dense(1,)\n",
    "        \n",
    "    def call(self, inputs):\n",
    "        x = self.dense1(inputs)\n",
    "        x = self.dense2(x)\n",
    "        return self.dense3(x)\n",
    "    \n",
    "def model_subclass():    \n",
    "    model = MyModel()\n",
    "    model.compile(optimizer = \"Adam\",\n",
    "                 loss = \"mean_squared_error\",\n",
    "                 metrics = [\"accuracy\"])\n",
    "    return model\n",
    "\n",
    "seed = 7\n",
    "numpy.random.seed(seed)\n",
    "estimators = []\n",
    "estimators.append(('standardize', StandardScaler()))\n",
    "estimators.append(('mlp', KerasRegressor(build_fn=model_subclass, epochs=100, batch_size=5, verbose=0)))\n",
    "pipeline = Pipeline(estimators)\n",
    "kfold = KFold(n_splits=10, random_state=seed)\n",
    "results = cross_val_score(pipeline, x, y, cv=kfold)\n",
    "print(\"Wider: %.2f (%.2f) MSE\" % (results.mean(), results.std()))"
   ]
  },
  {
   "cell_type": "code",
   "execution_count": null,
   "metadata": {},
   "outputs": [],
   "source": []
  },
  {
   "cell_type": "code",
   "execution_count": null,
   "metadata": {},
   "outputs": [],
   "source": []
  },
  {
   "cell_type": "code",
   "execution_count": null,
   "metadata": {},
   "outputs": [],
   "source": []
  },
  {
   "cell_type": "code",
   "execution_count": null,
   "metadata": {},
   "outputs": [],
   "source": []
  },
  {
   "cell_type": "code",
   "execution_count": null,
   "metadata": {},
   "outputs": [],
   "source": []
  },
  {
   "cell_type": "code",
   "execution_count": null,
   "metadata": {},
   "outputs": [],
   "source": []
  }
 ],
 "metadata": {
  "kernelspec": {
   "display_name": "Python 3",
   "language": "python",
   "name": "python3"
  },
  "language_info": {
   "codemirror_mode": {
    "name": "ipython",
    "version": 3
   },
   "file_extension": ".py",
   "mimetype": "text/x-python",
   "name": "python",
   "nbconvert_exporter": "python",
   "pygments_lexer": "ipython3",
   "version": "3.7.3"
  }
 },
 "nbformat": 4,
 "nbformat_minor": 2
}
